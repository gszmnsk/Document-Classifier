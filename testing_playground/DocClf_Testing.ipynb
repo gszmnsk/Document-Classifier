{
 "cells": [
  {
   "cell_type": "code",
   "execution_count": 1,
   "metadata": {
    "collapsed": true
   },
   "outputs": [],
   "source": [
    "import tensorflow as tf\n",
    "from DocClf_Test_Preprocessing import *\n",
    "import numpy as np\n",
    "import sklearn\n",
    "from sklearn.preprocessing import StandardScaler"
   ]
  },
  {
   "cell_type": "code",
   "execution_count": 2,
   "metadata": {
    "pycharm": {
     "name": "#%%\n"
    }
   },
   "outputs": [
    {
     "ename": "error",
     "evalue": "OpenCV(4.6.0) D:\\a\\opencv-python\\opencv-python\\opencv\\modules\\imgproc\\src\\resize.cpp:4052: error: (-215:Assertion failed) !ssize.empty() in function 'cv::resize'\n",
     "output_type": "error",
     "traceback": [
      "\u001B[1;31m---------------------------------------------------------------------------\u001B[0m",
      "\u001B[1;31merror\u001B[0m                                     Traceback (most recent call last)",
      "Cell \u001B[1;32mIn [2], line 2\u001B[0m\n\u001B[0;32m      1\u001B[0m image_path \u001B[38;5;241m=\u001B[39m \u001B[38;5;124m\"\u001B[39m\u001B[38;5;124m0000153377.tif\u001B[39m\u001B[38;5;124m\"\u001B[39m\n\u001B[1;32m----> 2\u001B[0m encoded_image \u001B[38;5;241m=\u001B[39m \u001B[43mPreprocess\u001B[49m\u001B[43m(\u001B[49m\u001B[43mimage_path\u001B[49m\u001B[43m)\u001B[49m\u001B[38;5;241;43m.\u001B[39;49m\u001B[43mvector_encoder\u001B[49m\u001B[43m(\u001B[49m\u001B[43m)\u001B[49m\n\u001B[0;32m      3\u001B[0m \u001B[38;5;66;03m#out_image\u001B[39;00m\n\u001B[0;32m      4\u001B[0m encoded_image_reshaped \u001B[38;5;241m=\u001B[39m encoded_image\u001B[38;5;241m.\u001B[39mreshape(encoded_image\u001B[38;5;241m.\u001B[39mshape[\u001B[38;5;241m1\u001B[39m], \u001B[38;5;241m1\u001B[39m)\n",
      "File \u001B[1;32m~\\Documents\\PROJECTS\\SPM_docs\\model_docs\\flaskDocProject\\DocClf_Test_Preprocessing.py:82\u001B[0m, in \u001B[0;36mPreprocess.vector_encoder\u001B[1;34m(self)\u001B[0m\n\u001B[0;32m     70\u001B[0m \u001B[38;5;28;01mdef\u001B[39;00m \u001B[38;5;21mvector_encoder\u001B[39m(\u001B[38;5;28mself\u001B[39m):\n\u001B[0;32m     71\u001B[0m     \u001B[38;5;124;03m'''\u001B[39;00m\n\u001B[0;32m     72\u001B[0m \u001B[38;5;124;03m    Vector Quantization\u001B[39;00m\n\u001B[0;32m     73\u001B[0m \n\u001B[1;32m   (...)\u001B[0m\n\u001B[0;32m     80\u001B[0m \u001B[38;5;124;03m    image_features - list of compressed images\u001B[39;00m\n\u001B[0;32m     81\u001B[0m \u001B[38;5;124;03m    '''\u001B[39;00m\n\u001B[1;32m---> 82\u001B[0m     image \u001B[38;5;241m=\u001B[39m \u001B[38;5;28;43mself\u001B[39;49m\u001B[38;5;241;43m.\u001B[39;49m\u001B[43mdenoising_images\u001B[49m\u001B[43m(\u001B[49m\u001B[43m)\u001B[49m\n\u001B[0;32m     83\u001B[0m     descriptors_list \u001B[38;5;241m=\u001B[39m \u001B[38;5;28mself\u001B[39m\u001B[38;5;241m.\u001B[39mORB_extractor()\n\u001B[0;32m     84\u001B[0m     codebook \u001B[38;5;241m=\u001B[39m \u001B[38;5;28mself\u001B[39m\u001B[38;5;241m.\u001B[39mread_codebook_json()\n",
      "File \u001B[1;32m~\\Documents\\PROJECTS\\SPM_docs\\model_docs\\flaskDocProject\\DocClf_Test_Preprocessing.py:27\u001B[0m, in \u001B[0;36mPreprocess.denoising_images\u001B[1;34m(self)\u001B[0m\n\u001B[0;32m     22\u001B[0m \u001B[38;5;28;01mdef\u001B[39;00m \u001B[38;5;21mdenoising_images\u001B[39m(\u001B[38;5;28mself\u001B[39m):\n\u001B[0;32m     23\u001B[0m     \u001B[38;5;124;03m\"\"\"\u001B[39;00m\n\u001B[0;32m     24\u001B[0m \u001B[38;5;124;03m    Denoising for better generalization.\u001B[39;00m\n\u001B[0;32m     25\u001B[0m \u001B[38;5;124;03m    \"\"\"\u001B[39;00m\n\u001B[1;32m---> 27\u001B[0m     thresh \u001B[38;5;241m=\u001B[39m cv2\u001B[38;5;241m.\u001B[39mthreshold(\u001B[38;5;28;43mself\u001B[39;49m\u001B[38;5;241;43m.\u001B[39;49m\u001B[43mresizing_images\u001B[49m\u001B[43m(\u001B[49m\u001B[43m)\u001B[49m, \u001B[38;5;241m220\u001B[39m, \u001B[38;5;241m255\u001B[39m, cv2\u001B[38;5;241m.\u001B[39mTHRESH_BINARY_INV)[\u001B[38;5;241m1\u001B[39m]\n\u001B[0;32m     29\u001B[0m     kernel1 \u001B[38;5;241m=\u001B[39m cv2\u001B[38;5;241m.\u001B[39mgetStructuringElement(cv2\u001B[38;5;241m.\u001B[39mMORPH_RECT, (\u001B[38;5;241m2\u001B[39m, \u001B[38;5;241m2\u001B[39m))\n\u001B[0;32m     30\u001B[0m     opening \u001B[38;5;241m=\u001B[39m cv2\u001B[38;5;241m.\u001B[39mmorphologyEx(thresh, cv2\u001B[38;5;241m.\u001B[39mMORPH_OPEN, kernel1)\n",
      "File \u001B[1;32m~\\Documents\\PROJECTS\\SPM_docs\\model_docs\\flaskDocProject\\DocClf_Test_Preprocessing.py:19\u001B[0m, in \u001B[0;36mPreprocess.resizing_images\u001B[1;34m(self)\u001B[0m\n\u001B[0;32m     16\u001B[0m IMG_WIDTH \u001B[38;5;241m=\u001B[39m \u001B[38;5;241m800\u001B[39m\n\u001B[0;32m     18\u001B[0m image_array \u001B[38;5;241m=\u001B[39m cv2\u001B[38;5;241m.\u001B[39mimread(\u001B[38;5;28mself\u001B[39m\u001B[38;5;241m.\u001B[39mimage_path)\n\u001B[1;32m---> 19\u001B[0m resized_image_array \u001B[38;5;241m=\u001B[39m \u001B[43mcv2\u001B[49m\u001B[38;5;241;43m.\u001B[39;49m\u001B[43mresize\u001B[49m\u001B[43m(\u001B[49m\u001B[43mimage_array\u001B[49m\u001B[43m,\u001B[49m\u001B[43m \u001B[49m\u001B[43m(\u001B[49m\u001B[43mIMG_HEIGHT\u001B[49m\u001B[43m,\u001B[49m\u001B[43m \u001B[49m\u001B[43mIMG_WIDTH\u001B[49m\u001B[43m)\u001B[49m\u001B[43m)\u001B[49m\n\u001B[0;32m     20\u001B[0m \u001B[38;5;28;01mreturn\u001B[39;00m resized_image_array\n",
      "\u001B[1;31merror\u001B[0m: OpenCV(4.6.0) D:\\a\\opencv-python\\opencv-python\\opencv\\modules\\imgproc\\src\\resize.cpp:4052: error: (-215:Assertion failed) !ssize.empty() in function 'cv::resize'\n"
     ]
    }
   ],
   "source": [
    "image_path = \"0000153377.tif\"\n",
    "encoded_image = Preprocess(image_path).vector_encoder()\n",
    "#out_image\n",
    "encoded_image_reshaped = encoded_image.reshape(encoded_image.shape[1], 1)\n",
    "prep_image = np.expand_dims(encoded_image_reshaped, axis=0)\n",
    "doc_CNN_model = tf.keras.models.load_model(\"documents-CNN.model\")\n",
    "    #pipe = Pipeline([('preprocess', Preprocess(image_path)), ('cnn', CNN_model())])\n",
    "pred = doc_CNN_model.predict([prep_image])\n",
    "decoded_label = decoding_labels(pred)\n",
    "classification = decoded_label[0]\n",
    "print(pred)\n"
   ]
  },
  {
   "cell_type": "code",
   "execution_count": 1,
   "metadata": {
    "pycharm": {
     "name": "#%%\n"
    }
   },
   "outputs": [],
   "source": []
  }
 ],
 "metadata": {
  "kernelspec": {
   "display_name": "Python 3 (ipykernel)",
   "language": "python",
   "name": "python3"
  },
  "language_info": {
   "codemirror_mode": {
    "name": "ipython",
    "version": 3
   },
   "file_extension": ".py",
   "mimetype": "text/x-python",
   "name": "python",
   "nbconvert_exporter": "python",
   "pygments_lexer": "ipython3",
   "version": "3.9.1"
  }
 },
 "nbformat": 4,
 "nbformat_minor": 1
}