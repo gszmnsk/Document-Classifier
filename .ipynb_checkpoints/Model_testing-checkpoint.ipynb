{
 "cells": [
  {
   "cell_type": "code",
   "execution_count": 1,
   "metadata": {
    "collapsed": true
   },
   "outputs": [],
   "source": [
    "import tensorflow as tf\n",
    "from DocClf_Test_Preprocessing import Preprocess, decoding_labels\n",
    "import numpy as np\n",
    "import sklearn\n",
    "from sklearn.preprocessing import StandardScaler"
   ]
  },
  {
   "cell_type": "code",
   "execution_count": 7,
   "metadata": {
    "pycharm": {
     "name": "#%%\n"
    }
   },
   "outputs": [
    {
     "data": {
      "text/plain": [
       "array([[0., 0., 0., 0., 0., 0., 0., 0., 0., 0., 0., 0., 0., 0., 0.]],\n",
       "      dtype=float32)"
      ]
     },
     "execution_count": 7,
     "metadata": {},
     "output_type": "execute_result"
    }
   ],
   "source": [
    "image_path = \"C:/Users/i/Documents/Python Scripts/SPM_docs/docs/docs_path/Resume/50457000-7001.tif\"\n",
    "encoded_image = Preprocess(image_path).vector_encoder()\n",
    "encoded_image_reshaped = encoded_image.reshape(encoded_image.shape[1], 1)\n",
    "prep_image = np.expand_dims(encoded_image_reshaped, axis=0)\n",
    "#doc_CNN_model = tf.keras.models.load_model(\"documents-CNN.model\")\n",
    "    #pipe = Pipeline([('preprocess', Preprocess(image_path)), ('cnn', CNN_model())])\n",
    "#pred = doc_CNN_model.predict([prep_image])\n",
    "#decoded_label = decoding_labels(pred)\n",
    "#classification = decoded_label[0]\n",
    "#print(pred)\n",
    "#pred\n",
    "encoded_image"
   ]
  },
  {
   "cell_type": "code",
   "execution_count": 11,
   "metadata": {
    "pycharm": {
     "name": "#%%\n"
    }
   },
   "outputs": [],
   "source": []
  }
 ],
 "metadata": {
  "kernelspec": {
   "display_name": "Python 3 (ipykernel)",
   "language": "python",
   "name": "python3"
  },
  "language_info": {
   "codemirror_mode": {
    "name": "ipython",
    "version": 3
   },
   "file_extension": ".py",
   "mimetype": "text/x-python",
   "name": "python",
   "nbconvert_exporter": "python",
   "pygments_lexer": "ipython3",
   "version": "3.9.1"
  }
 },
 "nbformat": 4,
 "nbformat_minor": 1
}
