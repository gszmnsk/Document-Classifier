{
 "cells": [
  {
   "cell_type": "code",
   "execution_count": 31,
   "metadata": {
    "pycharm": {
     "name": "#%%\n"
    }
   },
   "outputs": [],
   "source": [
    "import json, codecs\n",
    "import numpy as np\n",
    "\n",
    "_vector_encoder_train = json.loads(codecs.open('vector_encoder_train.json', 'r', encoding='utf-8').read())\n",
    "vector_encoder_train = np.array(_vector_encoder_train)\n",
    "\n",
    "_vector_encoder_test = json.loads(codecs.open('vector_encoder_test.json', 'r', encoding='utf-8').read())\n",
    "vector_encoder_test = np.array(_vector_encoder_test)\n",
    "\n",
    "_X_train = json.loads(codecs.open('X_train.json', 'r', encoding='utf-8').read())\n",
    "X_train = [np.array(_X_train)]\n",
    "\n",
    "_X_test = json.loads(codecs.open('X_test.json', 'r', encoding='utf-8').read())\n",
    "X_test = [np.array(_X_test)]\n",
    "\n",
    "y_train = json.loads(codecs.open('y_train.json', 'r', encoding='utf-8').read())\n",
    "\n",
    "y_test = json.loads(codecs.open('y_test.json', 'r', encoding='utf-8').read())"
   ]
  },
  {
   "cell_type": "code",
   "execution_count": 26,
   "metadata": {
    "collapsed": true
   },
   "outputs": [],
   "source": [
    "def true_classes(test_label):\n",
    "\n",
    "    true_classes_list = []\n",
    "    for i in test_label:\n",
    "        if i == 0:\n",
    "            true_classes_list.append(\"News\")\n",
    "        elif i == 1:\n",
    "            true_classes_list.append(\"Resume\")\n",
    "        elif i == 2:\n",
    "            true_classes_list.append(\"Scientific\")\n",
    "    return true_classes_list\n",
    "\n",
    "def predicted_classes(model, test_label):\n",
    "\n",
    "    predicted_list = []\n",
    "    for i in model.predict(test_label):\n",
    "        if i == 0:\n",
    "            predicted_list.append(\"News\")\n",
    "        elif i == 1:\n",
    "            predicted_list.append(\"Resume\")\n",
    "        elif i == 2:\n",
    "            predicted_list.append(\"Scientific\")\n",
    "\n",
    "    return predicted_list\n"
   ]
  },
  {
   "cell_type": "code",
   "execution_count": 27,
   "metadata": {
    "pycharm": {
     "name": "#%%\n"
    }
   },
   "outputs": [],
   "source": [
    "true_classes = true_classes(y_test)"
   ]
  },
  {
   "cell_type": "markdown",
   "metadata": {},
   "source": [
    "### One-vs-Rest"
   ]
  },
  {
   "cell_type": "code",
   "execution_count": 28,
   "metadata": {
    "pycharm": {
     "name": "#%%\n"
    }
   },
   "outputs": [],
   "source": [
    "from sklearn.multiclass import OneVsRestClassifier\n",
    "from sklearn.svm import SVC\n",
    "\n",
    "def OVR_model(image_features, labels):\n",
    "\n",
    "    ovr = OneVsRestClassifier(SVC())\n",
    "    ovr.fit(image_features,np.array(labels))\n",
    "\n",
    "    return ovr"
   ]
  },
  {
   "cell_type": "code",
   "execution_count": 29,
   "metadata": {
    "pycharm": {
     "name": "#%%\n"
    }
   },
   "outputs": [
    {
     "name": "stdout",
     "output_type": "stream",
     "text": [
      "Accuracy for One-vs-Rest Classifier:  74.08491947291361 %\n"
     ]
    }
   ],
   "source": [
    "from sklearn.metrics import confusion_matrix,accuracy_score\n",
    "\n",
    "ovr = OVR_model(vector_encoder_train, y_train)\n",
    "OVR_predict_classes = predicted_classes(ovr, vector_encoder_test)\n",
    "\n",
    "ovr_accuracy = accuracy_score(true_classes,OVR_predict_classes) * 100\n",
    "print('Accuracy for One-vs-Rest Classifier: ', ovr_accuracy, '%')"
   ]
  },
  {
   "cell_type": "code",
   "execution_count": 30,
   "metadata": {
    "pycharm": {
     "name": "#%%\n"
    }
   },
   "outputs": [
    {
     "data": {
      "image/png": "[encoded data removed]",
      "text/plain": [
       "<Figure size 432x288 with 2 Axes>"
      ]
     },
     "metadata": {
      "needs_background": "light"
     },
     "output_type": "display_data"
    }
   ],
   "source": [
    "import seaborn as sns\n",
    "labels=['News', 'Resume', 'Scientific']\n",
    "\n",
    "OVR_cf_matrix = confusion_matrix(true_classes, OVR_predict_classes, labels=labels)\n",
    "OVR_cf_matrix_heatmap = sns.heatmap(OVR_cf_matrix/np.sum(OVR_cf_matrix), annot=True, fmt='.1%', cmap='Greens')\n",
    "\n"
   ]
  }
 ],
 "metadata": {
  "kernelspec": {
   "display_name": "Python 3",
   "language": "python",
   "name": "python3"
  },
  "language_info": {
   "codemirror_mode": {
    "name": "ipython",
    "version": 3
   },
   "file_extension": ".py",
   "mimetype": "text/x-python",
   "name": "python",
   "nbconvert_exporter": "python",
   "pygments_lexer": "ipython3",
   "version": "3.8.10"
  }
 },
 "nbformat": 4,
 "nbformat_minor": 1
}
