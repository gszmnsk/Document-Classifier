{
 "cells": [
  {
   "cell_type": "code",
   "execution_count": 1,
   "metadata": {
    "pycharm": {
     "name": "#%%\n"
    }
   },
   "outputs": [],
   "source": [
    "import json, codecs\n",
    "import numpy as np\n",
    "\n",
    "_vector_encoder_train = json.loads(codecs.open('vector_encoder_train.json', 'r', encoding='utf-8').read())\n",
    "vector_encoder_train = np.array(_vector_encoder_train)\n",
    "\n",
    "_vector_encoder_test = json.loads(codecs.open('vector_encoder_test.json', 'r', encoding='utf-8').read())\n",
    "vector_encoder_test = np.array(_vector_encoder_test)\n",
    "\n",
    "_X_train = json.loads(codecs.open('X_train.json', 'r', encoding='utf-8').read())\n",
    "X_train = [np.array(_X_train)]\n",
    "\n",
    "_X_test = json.loads(codecs.open('X_test.json', 'r', encoding='utf-8').read())\n",
    "X_test = [np.array(_X_test)]\n",
    "\n",
    "y_train = json.loads(codecs.open('y_train.json', 'r', encoding='utf-8').read())\n",
    "\n",
    "y_test = json.loads(codecs.open('y_test.json', 'r', encoding='utf-8').read())"
   ]
  },
  {
   "cell_type": "markdown",
   "metadata": {
    "pycharm": {
     "name": "#%% md\n"
    }
   },
   "source": [
    "#### Shaping the data"
   ]
  },
  {
   "cell_type": "code",
   "execution_count": 2,
   "metadata": {
    "pycharm": {
     "name": "#%%\n"
    }
   },
   "outputs": [],
   "source": [
    "import tensorflow as tf\n",
    "from tensorflow.keras.models import Sequential\n",
    "from tensorflow.keras.layers import Dense, Conv1D, MaxPooling1D, Dropout, Flatten\n",
    "import numpy as np\n",
    "\n",
    "\n",
    "Y_train = np.array(y_train, dtype=np.int32)\n",
    "y_train_of_zeros = np.zeros((Y_train.shape[0], 3),dtype=np.float32)\n",
    "y_train_of_zeros[np.arange(Y_train.shape[0]), Y_train] = 1.0\n",
    "train_labels = y_train_of_zeros.reshape(y_train_of_zeros.shape[0],1,y_train_of_zeros.shape[1])\n",
    "\n",
    "\n",
    "Y_test = np.array(y_test, dtype=np.int32)\n",
    "y_test_of_zeros = np.zeros((Y_test.shape[0], 3),dtype=np.float32)\n",
    "y_test_of_zeros[np.arange(Y_test.shape[0]), Y_test] = 1.0\n",
    "valid_test_labels = y_test_of_zeros.reshape(y_test_of_zeros.shape[0],1,y_test_of_zeros.shape[1])\n",
    "\n",
    "\n",
    "\n",
    "train_set = vector_encoder_train.reshape(vector_encoder_train.shape[0],\n",
    "                                                             vector_encoder_train.shape[1],1)\n",
    "valid_test_set = np.asarray(vector_encoder_test).reshape(vector_encoder_test.shape[0],\n",
    "                                                            vector_encoder_test.shape[1],1)\n",
    "\n",
    "validation_labels = valid_test_labels[:100]\n",
    "test_labels = valid_test_labels[100:]\n",
    "\n",
    "validation_set = valid_test_set[:100]\n",
    "test_set = valid_test_set[100:]"
   ]
  },
  {
   "cell_type": "markdown",
   "metadata": {},
   "source": [
    "#### Modeling"
   ]
  },
  {
   "cell_type": "code",
   "execution_count": 3,
   "metadata": {
    "pycharm": {
     "name": "#%%\n"
    }
   },
   "outputs": [
    {
     "name": "stdout",
     "output_type": "stream",
     "text": [
      "Epoch 1/100\n",
      "11/11 [==============================] - 16s 22ms/step - loss: 1.0877 - accuracy: 0.4038\n",
      "Epoch 2/100\n",
      "11/11 [==============================] - 0s 13ms/step - loss: 0.9943 - accuracy: 0.4796\n",
      "Epoch 3/100\n",
      "11/11 [==============================] - 0s 11ms/step - loss: 0.8779 - accuracy: 0.5072\n",
      "Epoch 4/100\n",
      "11/11 [==============================] - 0s 10ms/step - loss: 0.7951 - accuracy: 0.6182\n",
      "Epoch 5/100\n",
      "11/11 [==============================] - 0s 9ms/step - loss: 0.7261 - accuracy: 0.6583\n",
      "Epoch 6/100\n",
      "11/11 [==============================] - 0s 11ms/step - loss: 0.6900 - accuracy: 0.6593\n",
      "Epoch 7/100\n",
      "11/11 [==============================] - 0s 12ms/step - loss: 0.6598 - accuracy: 0.6764\n",
      "Epoch 8/100\n",
      "11/11 [==============================] - 0s 12ms/step - loss: 0.6414 - accuracy: 0.6988\n",
      "Epoch 9/100\n",
      "11/11 [==============================] - 0s 12ms/step - loss: 0.6274 - accuracy: 0.7121\n",
      "Epoch 10/100\n",
      "11/11 [==============================] - 0s 15ms/step - loss: 0.6168 - accuracy: 0.7094\n",
      "Epoch 11/100\n",
      "11/11 [==============================] - 0s 14ms/step - loss: 0.5800 - accuracy: 0.7386\n",
      "Epoch 12/100\n",
      "11/11 [==============================] - 0s 13ms/step - loss: 0.5849 - accuracy: 0.7220\n",
      "Epoch 13/100\n",
      "11/11 [==============================] - 0s 12ms/step - loss: 0.5824 - accuracy: 0.7343\n",
      "Epoch 14/100\n",
      "11/11 [==============================] - 0s 12ms/step - loss: 0.5477 - accuracy: 0.7564\n",
      "Epoch 15/100\n",
      "11/11 [==============================] - 0s 12ms/step - loss: 0.5205 - accuracy: 0.7674\n",
      "Epoch 16/100\n",
      "11/11 [==============================] - 0s 12ms/step - loss: 0.5419 - accuracy: 0.7552\n",
      "Epoch 17/100\n",
      "11/11 [==============================] - 0s 14ms/step - loss: 0.5007 - accuracy: 0.7832\n",
      "Epoch 18/100\n",
      "11/11 [==============================] - 0s 11ms/step - loss: 0.4981 - accuracy: 0.7899\n",
      "Epoch 19/100\n",
      "11/11 [==============================] - 0s 9ms/step - loss: 0.5199 - accuracy: 0.7949\n",
      "Epoch 20/100\n",
      "11/11 [==============================] - 0s 10ms/step - loss: 0.4931 - accuracy: 0.7970\n",
      "Epoch 21/100\n",
      "11/11 [==============================] - 0s 13ms/step - loss: 0.4532 - accuracy: 0.8136\n",
      "Epoch 22/100\n",
      "11/11 [==============================] - 0s 12ms/step - loss: 0.4458 - accuracy: 0.8348\n",
      "Epoch 23/100\n",
      "11/11 [==============================] - 0s 12ms/step - loss: 0.4244 - accuracy: 0.8282\n",
      "Epoch 24/100\n",
      "11/11 [==============================] - 0s 13ms/step - loss: 0.4457 - accuracy: 0.8066\n",
      "Epoch 25/100\n",
      "11/11 [==============================] - 0s 13ms/step - loss: 0.4665 - accuracy: 0.8004\n",
      "Epoch 26/100\n",
      "11/11 [==============================] - 0s 13ms/step - loss: 0.4024 - accuracy: 0.8479\n",
      "Epoch 27/100\n",
      "11/11 [==============================] - 0s 13ms/step - loss: 0.4133 - accuracy: 0.8354\n",
      "Epoch 28/100\n",
      "11/11 [==============================] - 0s 13ms/step - loss: 0.3842 - accuracy: 0.8348\n",
      "Epoch 29/100\n",
      "11/11 [==============================] - 0s 12ms/step - loss: 0.3827 - accuracy: 0.8391\n",
      "Epoch 30/100\n",
      "11/11 [==============================] - 0s 13ms/step - loss: 0.3537 - accuracy: 0.8654\n",
      "Epoch 31/100\n",
      "11/11 [==============================] - 0s 13ms/step - loss: 0.3089 - accuracy: 0.8897\n",
      "Epoch 32/100\n",
      "11/11 [==============================] - 0s 11ms/step - loss: 0.3313 - accuracy: 0.8472\n",
      "Epoch 33/100\n",
      "11/11 [==============================] - 0s 10ms/step - loss: 0.3420 - accuracy: 0.8631\n",
      "Epoch 34/100\n",
      "11/11 [==============================] - 0s 9ms/step - loss: 0.3356 - accuracy: 0.8583\n",
      "Epoch 35/100\n",
      "11/11 [==============================] - 0s 13ms/step - loss: 0.3052 - accuracy: 0.8798\n",
      "Epoch 36/100\n",
      "11/11 [==============================] - 0s 13ms/step - loss: 0.3347 - accuracy: 0.8581\n",
      "Epoch 37/100\n",
      "11/11 [==============================] - 0s 13ms/step - loss: 0.2924 - accuracy: 0.8836\n",
      "Epoch 38/100\n",
      "11/11 [==============================] - 0s 13ms/step - loss: 0.2917 - accuracy: 0.8809\n",
      "Epoch 39/100\n",
      "11/11 [==============================] - 0s 12ms/step - loss: 0.2789 - accuracy: 0.8872\n",
      "Epoch 40/100\n",
      "11/11 [==============================] - 0s 13ms/step - loss: 0.2904 - accuracy: 0.8759\n",
      "Epoch 41/100\n",
      "11/11 [==============================] - 0s 12ms/step - loss: 0.2878 - accuracy: 0.8780\n",
      "Epoch 42/100\n",
      "11/11 [==============================] - 0s 12ms/step - loss: 0.2486 - accuracy: 0.9010\n",
      "Epoch 43/100\n",
      "11/11 [==============================] - 0s 12ms/step - loss: 0.2472 - accuracy: 0.9087 0s - loss: 0.2406 - accuracy: 0.\n",
      "Epoch 44/100\n",
      "11/11 [==============================] - 0s 12ms/step - loss: 0.2385 - accuracy: 0.9065\n",
      "Epoch 45/100\n",
      "11/11 [==============================] - 0s 12ms/step - loss: 0.2414 - accuracy: 0.9143\n",
      "Epoch 46/100\n",
      "11/11 [==============================] - 0s 12ms/step - loss: 0.2452 - accuracy: 0.9044\n",
      "Epoch 47/100\n",
      "11/11 [==============================] - 0s 11ms/step - loss: 0.2207 - accuracy: 0.9172\n",
      "Epoch 48/100\n",
      "11/11 [==============================] - 0s 10ms/step - loss: 0.1863 - accuracy: 0.9304\n",
      "Epoch 49/100\n",
      "11/11 [==============================] - 0s 9ms/step - loss: 0.2036 - accuracy: 0.9157\n",
      "Epoch 50/100\n",
      "11/11 [==============================] - 0s 11ms/step - loss: 0.1802 - accuracy: 0.9313\n",
      "Epoch 51/100\n",
      "11/11 [==============================] - 0s 13ms/step - loss: 0.2071 - accuracy: 0.9311\n",
      "Epoch 52/100\n",
      "11/11 [==============================] - 0s 13ms/step - loss: 0.2123 - accuracy: 0.9181\n",
      "Epoch 53/100\n",
      "11/11 [==============================] - 0s 13ms/step - loss: 0.1864 - accuracy: 0.9172\n",
      "Epoch 54/100\n",
      "11/11 [==============================] - 0s 11ms/step - loss: 0.2121 - accuracy: 0.9144\n",
      "Epoch 55/100\n",
      "11/11 [==============================] - 0s 12ms/step - loss: 0.2153 - accuracy: 0.9127\n",
      "Epoch 56/100\n",
      "11/11 [==============================] - 0s 12ms/step - loss: 0.1881 - accuracy: 0.9235 0s - loss: 0.1970 - accuracy: 0.\n",
      "Epoch 57/100\n",
      "11/11 [==============================] - 0s 12ms/step - loss: 0.1607 - accuracy: 0.9373 0s - loss: 0.1606 - accuracy: 0.93\n",
      "Epoch 58/100\n",
      "11/11 [==============================] - 0s 14ms/step - loss: 0.1532 - accuracy: 0.9485\n",
      "Epoch 59/100\n",
      "11/11 [==============================] - 0s 13ms/step - loss: 0.2152 - accuracy: 0.9310\n",
      "Epoch 60/100\n",
      "11/11 [==============================] - 0s 12ms/step - loss: 0.1425 - accuracy: 0.9535\n",
      "Epoch 61/100\n",
      "11/11 [==============================] - 0s 11ms/step - loss: 0.1469 - accuracy: 0.9424\n",
      "Epoch 62/100\n",
      "11/11 [==============================] - 0s 11ms/step - loss: 0.1559 - accuracy: 0.9418\n",
      "Epoch 63/100\n",
      "11/11 [==============================] - 0s 9ms/step - loss: 0.1491 - accuracy: 0.9366\n",
      "Epoch 64/100\n",
      "11/11 [==============================] - 0s 9ms/step - loss: 0.1145 - accuracy: 0.9760\n",
      "Epoch 65/100\n",
      "11/11 [==============================] - 0s 10ms/step - loss: 0.1168 - accuracy: 0.9618\n",
      "Epoch 66/100\n",
      "11/11 [==============================] - 0s 12ms/step - loss: 0.1536 - accuracy: 0.9523\n",
      "Epoch 67/100\n",
      "11/11 [==============================] - 0s 11ms/step - loss: 0.1319 - accuracy: 0.9476\n",
      "Epoch 68/100\n",
      "11/11 [==============================] - 0s 11ms/step - loss: 0.1368 - accuracy: 0.9456\n",
      "Epoch 69/100\n",
      "11/11 [==============================] - 0s 11ms/step - loss: 0.1381 - accuracy: 0.9518\n",
      "Epoch 70/100\n",
      "11/11 [==============================] - 0s 12ms/step - loss: 0.1216 - accuracy: 0.9489\n",
      "Epoch 71/100\n",
      "11/11 [==============================] - 0s 12ms/step - loss: 0.1226 - accuracy: 0.9540\n",
      "Epoch 72/100\n",
      "11/11 [==============================] - 0s 12ms/step - loss: 0.1117 - accuracy: 0.9634\n",
      "Epoch 73/100\n",
      "11/11 [==============================] - 0s 12ms/step - loss: 0.1082 - accuracy: 0.9690\n",
      "Epoch 74/100\n",
      "11/11 [==============================] - 0s 14ms/step - loss: 0.1196 - accuracy: 0.9499\n",
      "Epoch 75/100\n",
      "11/11 [==============================] - 0s 12ms/step - loss: 0.0966 - accuracy: 0.9706\n",
      "Epoch 76/100\n",
      "11/11 [==============================] - 0s 12ms/step - loss: 0.0887 - accuracy: 0.9694\n",
      "Epoch 77/100\n",
      "11/11 [==============================] - 0s 13ms/step - loss: 0.1098 - accuracy: 0.9607\n",
      "Epoch 78/100\n",
      "11/11 [==============================] - 0s 14ms/step - loss: 0.1149 - accuracy: 0.9594\n",
      "Epoch 79/100\n",
      "11/11 [==============================] - 0s 10ms/step - loss: 0.1256 - accuracy: 0.9486\n",
      "Epoch 80/100\n",
      "11/11 [==============================] - 0s 11ms/step - loss: 0.1503 - accuracy: 0.9404\n",
      "Epoch 81/100\n",
      "11/11 [==============================] - 0s 12ms/step - loss: 0.0775 - accuracy: 0.9797\n",
      "Epoch 82/100\n",
      "11/11 [==============================] - 0s 12ms/step - loss: 0.0948 - accuracy: 0.9718\n",
      "Epoch 83/100\n",
      "11/11 [==============================] - 0s 12ms/step - loss: 0.0891 - accuracy: 0.9682\n",
      "Epoch 84/100\n",
      "11/11 [==============================] - 0s 13ms/step - loss: 0.0807 - accuracy: 0.9779\n",
      "Epoch 85/100\n",
      "11/11 [==============================] - 0s 13ms/step - loss: 0.0837 - accuracy: 0.9723\n",
      "Epoch 86/100\n",
      "11/11 [==============================] - 0s 13ms/step - loss: 0.0739 - accuracy: 0.9724\n",
      "Epoch 87/100\n",
      "11/11 [==============================] - 0s 12ms/step - loss: 0.0840 - accuracy: 0.9685\n",
      "Epoch 88/100\n",
      "11/11 [==============================] - 0s 13ms/step - loss: 0.0692 - accuracy: 0.9769\n",
      "Epoch 89/100\n",
      "11/11 [==============================] - 0s 13ms/step - loss: 0.0671 - accuracy: 0.9791\n",
      "Epoch 90/100\n",
      "11/11 [==============================] - 0s 13ms/step - loss: 0.0788 - accuracy: 0.9724\n",
      "Epoch 91/100\n",
      "11/11 [==============================] - 0s 12ms/step - loss: 0.0653 - accuracy: 0.9758\n",
      "Epoch 92/100\n",
      "11/11 [==============================] - 0s 13ms/step - loss: 0.0733 - accuracy: 0.9711\n",
      "Epoch 93/100\n",
      "11/11 [==============================] - 0s 11ms/step - loss: 0.1267 - accuracy: 0.9540\n",
      "Epoch 94/100\n",
      "11/11 [==============================] - 0s 10ms/step - loss: 0.1010 - accuracy: 0.9563\n",
      "Epoch 95/100\n",
      "11/11 [==============================] - 0s 13ms/step - loss: 0.0641 - accuracy: 0.9806\n",
      "Epoch 96/100\n",
      "11/11 [==============================] - 0s 12ms/step - loss: 0.0697 - accuracy: 0.9817\n",
      "Epoch 97/100\n",
      "11/11 [==============================] - 0s 11ms/step - loss: 0.0926 - accuracy: 0.9576\n",
      "Epoch 98/100\n",
      "11/11 [==============================] - 0s 11ms/step - loss: 0.0869 - accuracy: 0.9704\n",
      "Epoch 99/100\n",
      "11/11 [==============================] - 0s 11ms/step - loss: 0.1418 - accuracy: 0.9441\n",
      "Epoch 100/100\n",
      "11/11 [==============================] - 0s 12ms/step - loss: 0.0810 - accuracy: 0.9716\n",
      "done\n"
     ]
    }
   ],
   "source": [
    "model = Sequential()\n",
    "model.add(Conv1D(256,kernel_size=train_set.shape[1],activation='relu',\n",
    "                            input_shape = (15,1)))\n",
    "model.add(MaxPooling1D(pool_size=1))\n",
    "model.add(Dropout(0.2))\n",
    "\n",
    "model.add(Conv1D(256,kernel_size=1,activation='relu'))\n",
    "model.add(MaxPooling1D(pool_size=1))\n",
    "model.add(Dropout(0.2))\n",
    "\n",
    "\n",
    "model.add(Conv1D(256,kernel_size=1,activation='relu'))\n",
    "model.add(MaxPooling1D(pool_size=1))\n",
    "\n",
    "model.add(Dense(3,activation='relu'))\n",
    "\n",
    "model.add(Dense(3,activation='softmax'))\n",
    "model.compile(loss='categorical_crossentropy',\n",
    "              optimizer='adam',\n",
    "              metrics=['accuracy'])\n",
    "model.fit(train_set, train_labels, batch_size=100, epochs=100)\n",
    "print('done')\n"
   ]
  },
  {
   "cell_type": "code",
   "execution_count": 4,
   "metadata": {
    "pycharm": {
     "name": "#%%\n"
    }
   },
   "outputs": [
    {
     "name": "stdout",
     "output_type": "stream",
     "text": [
      "1/1 [==============================] - 0s 237ms/step - loss: 0.4688 - accuracy: 0.9400\n"
     ]
    }
   ],
   "source": [
    "results = model.evaluate(validation_set, validation_labels, batch_size=100)\n",
    "predicted_labels = (model.predict(test_set) > 0.5).astype(\"float32\")"
   ]
  },
  {
   "cell_type": "code",
   "execution_count": 7,
   "metadata": {},
   "outputs": [
    {
     "name": "stdout",
     "output_type": "stream",
     "text": [
      "[2, 0, 2, 1, 2, 1, 2, 0, 0, 0, 0, 0, 2, 0, 1, 2, 1, 2, 0, 0, 2, 2, 2, 2, 1, 0, 2, 2, 2, 2, 0, 1, 1, 2, 2, 2, 2, 0, 1, 2, 0, 2, 0, 0, 2, 2, 0, 2, 0, 1, 1, 2, 1, 0, 1, 2, 2, 2, 0, 0, 2, 1, 2, 2, 1, 2, 0, 0, 2, 0, 0, 1, 2, 2, 2, 2, 1, 2, 2, 0, 2, 2, 2, 2, 2, 2, 2, 0, 2, 2, 1, 1, 2, 1, 2, 1, 0, 2, 2, 0, 0, 1, 2, 1, 1, 0, 2, 0, 2, 0, 2, 0, 2, 1, 1, 0, 2, 1, 1, 1, 2, 0, 2, 2, 2, 0, 0, 1, 2, 1, 2, 2, 0, 2, 2, 2, 0, 1, 1, 2, 0, 0, 0, 0, 2, 0, 1, 0, 0, 2, 1, 0, 0, 0, 0, 2, 1, 2, 0, 1, 2, 2, 0, 2, 2, 2, 2, 0, 2, 0, 1, 1, 1, 0, 2, 2, 2, 2, 0, 2, 2, 2, 2, 2, 0, 1, 0, 2, 2, 2, 1, 2, 0, 0, 2, 0, 2, 2, 1, 0, 2, 0, 0, 2, 1, 2, 2, 0, 1, 0, 0, 2, 1, 2, 2, 1, 1, 2, 1, 2, 2, 1, 0, 2, 1, 0, 2, 0, 0, 0, 0, 2, 2, 0, 2, 2, 0, 2, 0, 2, 2, 0, 0, 1, 0, 0, 1, 2, 2, 2, 0, 1, 2, 2, 0, 2, 0, 0, 0, 2, 2, 2, 0, 0, 2, 0, 0, 2, 1, 2, 2, 2, 1, 2, 0, 2, 2, 2, 0, 2, 0, 2, 0, 2, 2, 2, 0, 0, 2, 2, 0, 0, 1, 2, 0, 0, 2, 2, 2, 2, 2, 2, 2, 0, 1, 1, 1, 0, 2, 0, 2, 2, 1, 2, 2, 0, 2, 0, 1, 0, 0, 0, 0, 1, 2, 1, 0, 1, 1, 0, 2, 0, 2, 2, 2, 2, 0, 2, 0, 0, 1, 2, 1, 2, 2, 0, 2, 0, 2, 1, 0, 2, 0, 2, 2, 0, 2, 0, 1, 0, 1, 1, 2, 2, 1, 0, 2, 2, 2, 2, 2, 2, 0, 2, 2, 0, 0, 2, 2, 0, 1, 0, 0, 2, 2, 2, 2, 0, 1, 0, 1, 2, 2, 2, 1, 2, 0, 2, 0, 0, 2, 1, 0, 0, 2, 0, 2, 1, 0, 2, 0, 0, 0, 2, 0, 0, 0, 0, 2, 2, 2, 0, 2, 0, 2, 1, 2, 1, 1, 0, 1, 0, 2, 2, 0, 0, 2, 2, 2, 2, 2, 0, 0, 2, 1, 0, 2, 0, 0, 2, 0, 1, 2, 2, 0, 2, 2, 1, 2, 1, 0, 2, 0, 1, 1, 0, 0, 1, 0, 0, 2, 2, 0, 2, 2, 0, 2, 0, 0, 2, 2, 2, 2, 0, 2, 2, 2, 2, 2, 2, 0, 0, 2, 1, 2, 2, 2, 2, 2, 2, 0, 0, 0, 0, 0, 1, 0, 2, 0, 0, 2, 0, 0, 2, 0, 0, 0, 0, 0, 0, 2, 0, 2, 0, 1, 1, 0, 1, 2, 0, 0, 2, 1, 0, 1, 0, 2, 2, 0, 0, 1, 2, 2, 2, 0, 2, 1, 0, 0, 2, 2, 2, 2, 1, 0, 2, 2, 1, 2, 2, 1, 1, 2, 2, 0, 0, 2, 0, 1, 1, 1, 2, 0, 1, 2, 1, 2, 0, 0, 0, 0, 2, 1]\n"
     ]
    }
   ],
   "source": [
    "from sklearn import preprocessing\n",
    "predicted_labels_reshaped = predicted_labels.reshape(predicted_labels.shape[0],-1)\n",
    "lb = preprocessing.LabelBinarizer()\n",
    "Y = [0,1,2]\n",
    "Y_bin = lb.fit_transform(Y) # label binarizer will convert it to a 0/1's\n",
    "#print(Y_bin)\n",
    "max_idx = predicted_labels_reshaped.argmax(axis=1) #get the indexes for the max probabilities\n",
    "out_labels = [lb.classes_[i] for i in max_idx]\n",
    "print(out_labels)"
   ]
  },
  {
   "cell_type": "code",
   "execution_count": 11,
   "metadata": {},
   "outputs": [
    {
     "data": {
      "text/plain": [
       "<AxesSubplot:>"
      ]
     },
     "execution_count": 11,
     "metadata": {},
     "output_type": "execute_result"
    },
    {
     "data": {
      "image/png": "[encoded data removed]",
      "text/plain": [
       "<Figure size 432x288 with 2 Axes>"
      ]
     },
     "metadata": {
      "needs_background": "light"
     },
     "output_type": "display_data"
    }
   ],
   "source": [
    "from sklearn.metrics import confusion_matrix\n",
    "import seaborn as sns\n",
    "\n",
    "cf_matrix = confusion_matrix(y_test[100:], out_labels, labels=[0,1,2])\n",
    "\n",
    "sns.heatmap(cf_matrix/np.sum(cf_matrix), annot=True, fmt='.1%', cmap='Greens')"
   ]
  },
  {
   "cell_type": "code",
   "execution_count": 13,
   "metadata": {},
   "outputs": [
    {
     "name": "stdout",
     "output_type": "stream",
     "text": [
      "INFO:tensorflow:Assets written to: L3-CNN.model\\assets\n"
     ]
    }
   ],
   "source": [
    "model.save('L3-CNN.model')"
   ]
  },
  {
   "cell_type": "code",
   "execution_count": null,
   "metadata": {},
   "outputs": [],
   "source": []
  }
 ],
 "metadata": {
  "kernelspec": {
   "display_name": "Python 3",
   "language": "python",
   "name": "python3"
  },
  "language_info": {
   "codemirror_mode": {
    "name": "ipython",
    "version": 3
   },
   "file_extension": ".py",
   "mimetype": "text/x-python",
   "name": "python",
   "nbconvert_exporter": "python",
   "pygments_lexer": "ipython3",
   "version": "3.7.9"
  }
 },
 "nbformat": 4,
 "nbformat_minor": 1
}
