{
 "cells": [
  {
   "cell_type": "code",
   "execution_count": 1,
   "metadata": {
    "pycharm": {
     "name": "#%%\n"
    }
   },
   "outputs": [],
   "source": [
    "import json, codecs\n",
    "import numpy as np\n",
    "\n",
    "_vector_encoder_train = json.loads(codecs.open('vector_encoder_train.json', 'r', encoding='utf-8').read())\n",
    "vector_encoder_train = np.array(_vector_encoder_train)\n",
    "\n",
    "_vector_encoder_test = json.loads(codecs.open('vector_encoder_test.json', 'r', encoding='utf-8').read())\n",
    "vector_encoder_test = np.array(_vector_encoder_test)\n",
    "\n",
    "_X_train = json.loads(codecs.open('X_train.json', 'r', encoding='utf-8').read())\n",
    "X_train = [np.array(_X_train)]\n",
    "\n",
    "_X_test = json.loads(codecs.open('X_test.json', 'r', encoding='utf-8').read())\n",
    "X_test = [np.array(_X_test)]\n",
    "\n",
    "y_train = json.loads(codecs.open('y_train.json', 'r', encoding='utf-8').read())\n",
    "\n",
    "y_test = json.loads(codecs.open('y_test.json', 'r', encoding='utf-8').read())"
   ]
  },
  {
   "cell_type": "markdown",
   "metadata": {
    "pycharm": {
     "name": "#%% md\n"
    }
   },
   "source": [
    "#### Shaping the data"
   ]
  },
  {
   "cell_type": "code",
   "execution_count": 2,
   "metadata": {
    "pycharm": {
     "name": "#%%\n"
    }
   },
   "outputs": [],
   "source": [
    "import tensorflow as tf\n",
    "from tensorflow.keras.models import Sequential\n",
    "from tensorflow.keras.layers import Dense, Conv1D, MaxPooling1D, Dropout, Flatten\n",
    "import numpy as np\n",
    "tf.config.list_physical_devices('GPU')\n",
    "\n",
    "Y_train = np.array(y_train, dtype=np.int32)\n",
    "y_train_of_zeros = np.zeros((Y_train.shape[0], 3),dtype=np.float32)\n",
    "y_train_of_zeros[np.arange(Y_train.shape[0]), Y_train] = 1.0\n",
    "train_labels = y_train_of_zeros.reshape(y_train_of_zeros.shape[0],1,y_train_of_zeros.shape[1])\n",
    "\n",
    "\n",
    "Y_test = np.array(y_test, dtype=np.int32)\n",
    "y_test_of_zeros = np.zeros((Y_test.shape[0], 3),dtype=np.float32)\n",
    "y_test_of_zeros[np.arange(Y_test.shape[0]), Y_test] = 1.0\n",
    "valid_test_labels = y_test_of_zeros.reshape(y_test_of_zeros.shape[0],1,y_test_of_zeros.shape[1])\n",
    "\n",
    "\n",
    "\n",
    "train_set = vector_encoder_train.reshape(vector_encoder_train.shape[0],\n",
    "                                                             vector_encoder_train.shape[1],1)\n",
    "valid_test_set = np.asarray(vector_encoder_test).reshape(vector_encoder_test.shape[0],\n",
    "                                                            vector_encoder_test.shape[1],1)\n",
    "\n",
    "validation_labels = valid_test_labels[:100]\n",
    "test_labels = valid_test_labels[100:]\n",
    "\n",
    "validation_set = valid_test_set[:100]\n",
    "test_set = valid_test_set[100:]"
   ]
  },
  {
   "cell_type": "markdown",
   "metadata": {},
   "source": [
    "#### Modeling"
   ]
  },
  {
   "cell_type": "code",
   "execution_count": null,
   "metadata": {
    "pycharm": {
     "name": "#%%\n",
     "is_executing": true
    }
   },
   "outputs": [],
   "source": [
    "model = Sequential()\n",
    "model.add(Conv1D(256,kernel_size=train_set.shape[1],activation='relu',\n",
    "                            input_shape = (15,1)))\n",
    "model.add(MaxPooling1D(pool_size=1))\n",
    "model.add(Dropout(0.2))\n",
    "\n",
    "model.add(Conv1D(256,kernel_size=1,activation='relu'))\n",
    "model.add(MaxPooling1D(pool_size=1))\n",
    "model.add(Dropout(0.2))\n",
    "\n",
    "\n",
    "model.add(Conv1D(256,kernel_size=1,activation='relu'))\n",
    "model.add(MaxPooling1D(pool_size=1))\n",
    "\n",
    "model.add(Dense(3,activation='relu'))\n",
    "\n",
    "model.add(Dense(3,activation='softmax'))\n",
    "model.compile(loss='categorical_crossentropy',\n",
    "              optimizer='adam',\n",
    "              metrics=['accuracy'])\n",
    "model.fit(train_set, train_labels, batch_size=100, epochs=100)\n",
    "print('done')\n"
   ]
  },
  {
   "cell_type": "code",
   "execution_count": null,
   "metadata": {
    "pycharm": {
     "name": "#%%\n",
     "is_executing": true
    }
   },
   "outputs": [],
   "source": [
    "results = model.evaluate(validation_set, validation_labels, batch_size=100)\n",
    "print(\"test loss, test acc:\", results)\n",
    "predicted_labels = (model.predict(test_set) > 0.5).astype(\"float32\")\n",
    "print(\"test set predictions:\", predicted_labels)\n",
    "model.save('documents-CNN_2.model')"
   ]
  }
 ],
 "metadata": {
  "kernelspec": {
   "display_name": "Python 3",
   "language": "python",
   "name": "python3"
  },
  "language_info": {
   "codemirror_mode": {
    "name": "ipython",
    "version": 3
   },
   "file_extension": ".py",
   "mimetype": "text/x-python",
   "name": "python",
   "nbconvert_exporter": "python",
   "pygments_lexer": "ipython3",
   "version": "3.8.10"
  }
 },
 "nbformat": 4,
 "nbformat_minor": 1
}