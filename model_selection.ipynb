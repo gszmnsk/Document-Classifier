{
 "cells": [
  {
   "cell_type": "code",
   "execution_count": 38,
   "outputs": [],
   "source": [
    "from sklearn.model_selection import KFold\n",
    "from sklearn import linear_model\n",
    "import numpy as np\n",
    "from sklearn.linear_model import LogisticRegression\n",
    "from sklearn.model_selection import GridSearchCV\n",
    "import matplotlib.pyplot as plt\n",
    "from sklearn.linear_model import LogisticRegression\n",
    "from sklearn import datasets\n",
    "from sklearn.inspection import DecisionBoundaryDisplay\n",
    "from sklearn.preprocessing import StandardScaler"
   ],
   "metadata": {
    "collapsed": false,
    "pycharm": {
     "name": "#%%\n"
    }
   }
  },
  {
   "cell_type": "code",
   "execution_count": 39,
   "outputs": [],
   "source": [
    "import numpy as np\n",
    "import matplotlib\n",
    "from matplotlib import pyplot as plt\n",
    "from matplotlib import ticker, cm\n",
    "from mpl_toolkits import mplot3d\n",
    "\n",
    "from matplotlib.colors import ListedColormap\n",
    "from sklearn.datasets import make_moons\n",
    "\n",
    "from sklearn.pipeline import Pipeline\n",
    "from sklearn.preprocessing import StandardScaler\n",
    "from sklearn.preprocessing import PolynomialFeatures\n",
    "from sklearn.svm import LinearSVC\n",
    "from sklearn.svm import SVC"
   ],
   "metadata": {
    "collapsed": false,
    "pycharm": {
     "name": "#%%\n"
    }
   }
  },
  {
   "cell_type": "code",
   "execution_count": 15,
   "metadata": {
    "pycharm": {
     "name": "#%%\n"
    }
   },
   "outputs": [],
   "source": [
    "import json, codecs\n",
    "import numpy as np\n",
    "import pickle\n",
    "\n",
    "_vector_encoder_train = json.loads(codecs.open('vector_encoder_train.json', 'r', encoding='utf-8').read())\n",
    "vector_encoder_train = np.array(_vector_encoder_train)\n",
    "\n",
    "_vector_encoder_test = json.loads(codecs.open('vector_encoder_test.json', 'r', encoding='utf-8').read())\n",
    "vector_encoder_test = np.array(_vector_encoder_test)\n",
    "\n",
    "_X_train = json.loads(codecs.open('X_train.json', 'r', encoding='utf-8').read())\n",
    "X_train = [np.array(_X_train)]\n",
    "\n",
    "_X_test = json.loads(codecs.open('X_test.json', 'r', encoding='utf-8').read())\n",
    "X_test = [np.array(_X_test)]\n",
    "\n",
    "y_train = json.loads(codecs.open('y_train.json', 'r', encoding='utf-8').read())\n",
    "\n",
    "y_test = json.loads(codecs.open('y_test.json', 'r', encoding='utf-8').read())"
   ]
  },
  {
   "cell_type": "code",
   "execution_count": 16,
   "metadata": {},
   "outputs": [],
   "source": [
    "def true_classes(test_label):\n",
    "\n",
    "    true_classes_list = []\n",
    "    for i in test_label:\n",
    "        if i == 0:\n",
    "            true_classes_list.append(\"News\")\n",
    "        elif i == 1:\n",
    "            true_classes_list.append(\"Resume\")\n",
    "        elif i == 2:\n",
    "            true_classes_list.append(\"Scientific\")\n",
    "    return true_classes_list\n",
    "\n",
    "def predicted_classes(model, test_label):\n",
    "\n",
    "    predicted_list = []\n",
    "    for i in model.predict(test_label):\n",
    "        if i == 0:\n",
    "            predicted_list.append(\"News\")\n",
    "        elif i == 1:\n",
    "            predicted_list.append(\"Resume\")\n",
    "        elif i == 2:\n",
    "            predicted_list.append(\"Scientific\")\n",
    "\n",
    "    return predicted_list\n"
   ]
  },
  {
   "cell_type": "code",
   "execution_count": 17,
   "metadata": {
    "pycharm": {
     "name": "#%%\n"
    }
   },
   "outputs": [],
   "source": [
    "true_classes = true_classes(y_test)"
   ]
  },
  {
   "cell_type": "markdown",
   "metadata": {},
   "source": [
    "### One-vs-Rest"
   ]
  },
  {
   "cell_type": "code",
   "execution_count": 18,
   "metadata": {
    "pycharm": {
     "name": "#%%\n"
    }
   },
   "outputs": [],
   "source": [
    "from sklearn.multiclass import OneVsRestClassifier\n",
    "from sklearn.svm import SVC\n",
    "\n",
    "def OVR_model(image_features, labels):\n",
    "\n",
    "    ovr = OneVsRestClassifier(SVC())\n",
    "    ovr.fit(image_features, np.array(labels))\n",
    "\n",
    "    return ovr"
   ]
  },
  {
   "cell_type": "code",
   "execution_count": 19,
   "metadata": {
    "pycharm": {
     "name": "#%%\n"
    }
   },
   "outputs": [
    {
     "name": "stdout",
     "output_type": "stream",
     "text": [
      "Accuracy for One-vs-Rest Classifier:  74.08491947291361 %\n"
     ]
    }
   ],
   "source": [
    "from sklearn.metrics import confusion_matrix,accuracy_score\n",
    "\n",
    "ovr = OVR_model(vector_encoder_train, y_train)\n",
    "OVR_predict_classes = predicted_classes(ovr, vector_encoder_test)\n",
    "\n",
    "ovr_accuracy = accuracy_score(true_classes, OVR_predict_classes) * 100\n",
    "print('Accuracy for One-vs-Rest Classifier: ', ovr_accuracy, '%')"
   ]
  },
  {
   "cell_type": "code",
   "execution_count": 20,
   "metadata": {
    "pycharm": {
     "name": "#%%\n"
    }
   },
   "outputs": [
    {
     "data": {
      "text/plain": "<Figure size 640x480 with 2 Axes>",
      "image/png": "[encoded data removed]"
     },
     "metadata": {},
     "output_type": "display_data"
    }
   ],
   "source": [
    "import seaborn as sns\n",
    "labels=['News', 'Resume', 'Scientific']\n",
    "\n",
    "OVR_cf_matrix = confusion_matrix(true_classes, OVR_predict_classes, labels=labels)\n",
    "OVR_cf_matrix_heatmap = sns.heatmap(OVR_cf_matrix/np.sum(OVR_cf_matrix), annot=True, fmt='.1%', cmap='Greens')\n",
    "\n"
   ]
  },
  {
   "cell_type": "code",
   "execution_count": 21,
   "metadata": {},
   "outputs": [],
   "source": [
    "# model = ovr\n",
    "# filename = 'finalized_OVR_model.sav'\n",
    "# pickle.dump(model, open(filename, 'wb'))"
   ]
  },
  {
   "cell_type": "markdown",
   "source": [
    "### Logistic Regression"
   ],
   "metadata": {
    "collapsed": false
   }
  },
  {
   "cell_type": "code",
   "execution_count": 40,
   "metadata": {},
   "outputs": [],
   "source": [
    "from sklearn.metrics import classification_report"
   ]
  },
  {
   "cell_type": "code",
   "execution_count": null,
   "outputs": [],
   "source": [],
   "metadata": {
    "collapsed": false,
    "pycharm": {
     "name": "#%%\n"
    }
   }
  },
  {
   "cell_type": "code",
   "execution_count": 49,
   "outputs": [
    {
     "name": "stdout",
     "output_type": "stream",
     "text": [
      "{'C': 1}\n"
     ]
    }
   ],
   "source": [
    "parameters = {'C':[ 1, 2, 5, 10, 50, 100]}\n",
    "              # 'penalty': ['l1', 'l2'],\n",
    "#               'solver': ['newton-cg', 'newton-cholesky', 'sag', 'saga']}\n",
    "lr = LogisticRegression(multi_class='multinomial')\n",
    "grid_p = GridSearchCV(lr, parameters, cv=5)\n",
    "grid_p.fit(vector_encoder_train, y_train)\n",
    "print(grid_p.best_params_)"
   ],
   "metadata": {
    "collapsed": false,
    "pycharm": {
     "name": "#%%\n"
    }
   }
  },
  {
   "cell_type": "code",
   "execution_count": 50,
   "outputs": [
    {
     "name": "stdout",
     "output_type": "stream",
     "text": [
      "Accuracy for Logistic Regression Classifier:  67.05710102489019 %\n"
     ]
    }
   ],
   "source": [
    "logreg_p = LogisticRegression(C = grid_p.best_params_['C'],\n",
    "                              penalty='l1', tol=0.01, solver='saga', multi_class='multinomial')\n",
    "logreg_p.fit(vector_encoder_train, y_train)\n",
    "logreg_predict_classes = predicted_classes(logreg_p, vector_encoder_test)\n",
    "\n",
    "logreg_accuracy = accuracy_score(true_classes, logreg_predict_classes) * 100\n",
    "print('Accuracy for Logistic Regression Classifier: ', logreg_accuracy, '%')"
   ],
   "metadata": {
    "collapsed": false,
    "pycharm": {
     "name": "#%%\n"
    }
   }
  },
  {
   "cell_type": "code",
   "execution_count": 51,
   "outputs": [
    {
     "data": {
      "text/plain": "<Figure size 640x480 with 2 Axes>",
      "image/png": "[encoded data removed]"
     },
     "metadata": {},
     "output_type": "display_data"
    }
   ],
   "source": [
    "import seaborn as sns\n",
    "labels=['News', 'Resume', 'Scientific']\n",
    "\n",
    "logreg_cf_matrix = confusion_matrix(true_classes, logreg_predict_classes, labels=labels)\n",
    "logreg_cf_matrix_heatmap = sns.heatmap(logreg_cf_matrix/np.sum(logreg_cf_matrix), annot=True, fmt='.1%', cmap='Greens')\n",
    "\n"
   ],
   "metadata": {
    "collapsed": false,
    "pycharm": {
     "name": "#%%\n"
    }
   }
  },
  {
   "cell_type": "markdown",
   "source": [
    "### SVM"
   ],
   "metadata": {
    "collapsed": false
   }
  },
  {
   "cell_type": "code",
   "execution_count": 26,
   "outputs": [
    {
     "data": {
      "text/plain": "SVC(C=100, gamma=0.1, probability=True, random_state=0)",
      "text/html": "<style>#sk-container-id-1 {color: black;background-color: white;}#sk-container-id-1 pre{padding: 0;}#sk-container-id-1 div.sk-toggleable {background-color: white;}#sk-container-id-1 label.sk-toggleable__label {cursor: pointer;display: block;width: 100%;margin-bottom: 0;padding: 0.3em;box-sizing: border-box;text-align: center;}#sk-container-id-1 label.sk-toggleable__label-arrow:before {content: \"▸\";float: left;margin-right: 0.25em;color: #696969;}#sk-container-id-1 label.sk-toggleable__label-arrow:hover:before {color: black;}#sk-container-id-1 div.sk-estimator:hover label.sk-toggleable__label-arrow:before {color: black;}#sk-container-id-1 div.sk-toggleable__content {max-height: 0;max-width: 0;overflow: hidden;text-align: left;background-color: #f0f8ff;}#sk-container-id-1 div.sk-toggleable__content pre {margin: 0.2em;color: black;border-radius: 0.25em;background-color: #f0f8ff;}#sk-container-id-1 input.sk-toggleable__control:checked~div.sk-toggleable__content {max-height: 200px;max-width: 100%;overflow: auto;}#sk-container-id-1 input.sk-toggleable__control:checked~label.sk-toggleable__label-arrow:before {content: \"▾\";}#sk-container-id-1 div.sk-estimator input.sk-toggleable__control:checked~label.sk-toggleable__label {background-color: #d4ebff;}#sk-container-id-1 div.sk-label input.sk-toggleable__control:checked~label.sk-toggleable__label {background-color: #d4ebff;}#sk-container-id-1 input.sk-hidden--visually {border: 0;clip: rect(1px 1px 1px 1px);clip: rect(1px, 1px, 1px, 1px);height: 1px;margin: -1px;overflow: hidden;padding: 0;position: absolute;width: 1px;}#sk-container-id-1 div.sk-estimator {font-family: monospace;background-color: #f0f8ff;border: 1px dotted black;border-radius: 0.25em;box-sizing: border-box;margin-bottom: 0.5em;}#sk-container-id-1 div.sk-estimator:hover {background-color: #d4ebff;}#sk-container-id-1 div.sk-parallel-item::after {content: \"\";width: 100%;border-bottom: 1px solid gray;flex-grow: 1;}#sk-container-id-1 div.sk-label:hover label.sk-toggleable__label {background-color: #d4ebff;}#sk-container-id-1 div.sk-serial::before {content: \"\";position: absolute;border-left: 1px solid gray;box-sizing: border-box;top: 0;bottom: 0;left: 50%;z-index: 0;}#sk-container-id-1 div.sk-serial {display: flex;flex-direction: column;align-items: center;background-color: white;padding-right: 0.2em;padding-left: 0.2em;position: relative;}#sk-container-id-1 div.sk-item {position: relative;z-index: 1;}#sk-container-id-1 div.sk-parallel {display: flex;align-items: stretch;justify-content: center;background-color: white;position: relative;}#sk-container-id-1 div.sk-item::before, #sk-container-id-1 div.sk-parallel-item::before {content: \"\";position: absolute;border-left: 1px solid gray;box-sizing: border-box;top: 0;bottom: 0;left: 50%;z-index: -1;}#sk-container-id-1 div.sk-parallel-item {display: flex;flex-direction: column;z-index: 1;position: relative;background-color: white;}#sk-container-id-1 div.sk-parallel-item:first-child::after {align-self: flex-end;width: 50%;}#sk-container-id-1 div.sk-parallel-item:last-child::after {align-self: flex-start;width: 50%;}#sk-container-id-1 div.sk-parallel-item:only-child::after {width: 0;}#sk-container-id-1 div.sk-dashed-wrapped {border: 1px dashed gray;margin: 0 0.4em 0.5em 0.4em;box-sizing: border-box;padding-bottom: 0.4em;background-color: white;}#sk-container-id-1 div.sk-label label {font-family: monospace;font-weight: bold;display: inline-block;line-height: 1.2em;}#sk-container-id-1 div.sk-label-container {text-align: center;}#sk-container-id-1 div.sk-container {/* jupyter's `normalize.less` sets `[hidden] { display: none; }` but bootstrap.min.css set `[hidden] { display: none !important; }` so we also need the `!important` here to be able to override the default hidden behavior on the sphinx rendered scikit-learn.org. See: https://github.com/scikit-learn/scikit-learn/issues/21755 */display: inline-block !important;position: relative;}#sk-container-id-1 div.sk-text-repr-fallback {display: none;}</style><div id=\"sk-container-id-1\" class=\"sk-top-container\"><div class=\"sk-text-repr-fallback\"><pre>SVC(C=100, gamma=0.1, probability=True, random_state=0)</pre><b>In a Jupyter environment, please rerun this cell to show the HTML representation or trust the notebook. <br />On GitHub, the HTML representation is unable to render, please try loading this page with nbviewer.org.</b></div><div class=\"sk-container\" hidden><div class=\"sk-item\"><div class=\"sk-estimator sk-toggleable\"><input class=\"sk-toggleable__control sk-hidden--visually\" id=\"sk-estimator-id-1\" type=\"checkbox\" checked><label for=\"sk-estimator-id-1\" class=\"sk-toggleable__label sk-toggleable__label-arrow\">SVC</label><div class=\"sk-toggleable__content\"><pre>SVC(C=100, gamma=0.1, probability=True, random_state=0)</pre></div></div></div></div></div>"
     },
     "execution_count": 26,
     "metadata": {},
     "output_type": "execute_result"
    }
   ],
   "source": [
    "parameters = {'C':[ 1, 2, 5, 10, 50, 100]}\n",
    "svm = SVC(kernel='rbf', random_state=0, gamma=0.1, C=1.0)\n",
    "grid_p = GridSearchCV(svm, parameters, cv=5)\n",
    "grid_p.fit(vector_encoder_train, y_train)\n",
    "\n",
    "svm_1 = SVC(kernel='rbf', random_state=0, gamma=0.1, C=grid_p.best_params_['C'], probability=True)\n",
    "svm_1.fit(vector_encoder_train, y_train)"
   ],
   "metadata": {
    "collapsed": false,
    "pycharm": {
     "name": "#%%\n"
    }
   }
  },
  {
   "cell_type": "code",
   "execution_count": 27,
   "outputs": [
    {
     "name": "stdout",
     "output_type": "stream",
     "text": [
      "Accuracy for SVM Classifier:  92.53294289897511 %\n"
     ]
    }
   ],
   "source": [
    "svm_1_predict_classes = predicted_classes(svm_1, vector_encoder_test)\n",
    "\n",
    "svm_1_accuracy = accuracy_score(true_classes, svm_1_predict_classes) * 100\n",
    "print('Accuracy for SVM Classifier: ', svm_1_accuracy, '%')"
   ],
   "metadata": {
    "collapsed": false,
    "pycharm": {
     "name": "#%%\n"
    }
   }
  },
  {
   "cell_type": "code",
   "execution_count": 28,
   "outputs": [
    {
     "data": {
      "text/plain": "<Figure size 640x480 with 2 Axes>",
      "image/png": "[encoded data removed]"
     },
     "metadata": {},
     "output_type": "display_data"
    }
   ],
   "source": [
    "labels=['News', 'Resume', 'Scientific']\n",
    "\n",
    "svm_cf_matrix = confusion_matrix(true_classes, svm_1_predict_classes, labels=labels)\n",
    "svm_cf_matrix_heatmap = sns.heatmap(svm_cf_matrix/np.sum(svm_cf_matrix), annot=True, fmt='.1%', cmap='Greens')"
   ],
   "metadata": {
    "collapsed": false,
    "pycharm": {
     "name": "#%%\n"
    }
   }
  },
  {
   "cell_type": "code",
   "execution_count": 29,
   "outputs": [
    {
     "name": "stdout",
     "output_type": "stream",
     "text": [
      "              precision    recall  f1-score   support\n",
      "\n",
      "        News       0.92      0.91      0.92       226\n",
      "      Resume       0.96      0.92      0.94       135\n",
      "  Scientific       0.91      0.94      0.93       322\n",
      "\n",
      "    accuracy                           0.93       683\n",
      "   macro avg       0.93      0.92      0.93       683\n",
      "weighted avg       0.93      0.93      0.93       683\n",
      "\n"
     ]
    }
   ],
   "source": [
    "y_pred_svm = svm_1.predict(vector_encoder_test)\n",
    "# target_names = ['class 0', 'class 1', 'class 2']\n",
    "print(classification_report(y_test, y_pred_svm, target_names=labels))"
   ],
   "metadata": {
    "collapsed": false,
    "pycharm": {
     "name": "#%%\n"
    }
   }
  },
  {
   "cell_type": "code",
   "execution_count": 30,
   "outputs": [],
   "source": [
    "model = svm_1\n",
    "filename = 'SVM_model.sav'\n",
    "pickle.dump(model, open(filename, 'wb'))"
   ],
   "metadata": {
    "collapsed": false,
    "pycharm": {
     "name": "#%%\n"
    }
   }
  },
  {
   "cell_type": "code",
   "execution_count": 31,
   "outputs": [
    {
     "name": "stdout",
     "output_type": "stream",
     "text": [
      "[[0.00081246 0.7202281  0.27895944]]\n"
     ]
    }
   ],
   "source": [
    "from DocClf_Test_Preprocessing import *\n",
    "image_path = r\"C:\\Users\\i\\Documents\\PROJECTS\\SPM_docs\\model_docs\\flaskDocProject\\images\\cv.tif\"\n",
    "encoded_image = Preprocess(image_path).vector_encoder()\n",
    "\n",
    "print(svm_1.predict_proba(encoded_image))"
   ],
   "metadata": {
    "collapsed": false,
    "pycharm": {
     "name": "#%%\n"
    }
   }
  },
  {
   "cell_type": "code",
   "execution_count": 32,
   "outputs": [
    {
     "name": "stdout",
     "output_type": "stream",
     "text": [
      "[[-0.79573333  0.         -0.94172937 -1.995053    0.          0.\n",
      "  -0.30263638 -0.05420605 -0.9584866  -0.76561385  0.15743962 -1.2586011\n",
      "   0.4451117   0.07392213  1.2341416 ]]\n"
     ]
    }
   ],
   "source": [
    "print(encoded_image)"
   ],
   "metadata": {
    "collapsed": false,
    "pycharm": {
     "name": "#%%\n"
    }
   }
  },
  {
   "cell_type": "code",
   "execution_count": 33,
   "outputs": [
    {
     "name": "stdout",
     "output_type": "stream",
     "text": [
      "[[9.99859441e-01 4.92559518e-06 1.35632958e-04]]\n"
     ]
    }
   ],
   "source": [
    "from DocClf_Test_Preprocessing import *\n",
    "image_path = r\"C:\\Users\\i\\Documents\\PROJECTS\\SPM_docs\\model_docs\\flaskDocProject\\images\\03620726.tif\"\n",
    "encoded_image = Preprocess(image_path).vector_encoder()\n",
    "\n",
    "print(svm_1.predict_proba(encoded_image))"
   ],
   "metadata": {
    "collapsed": false,
    "pycharm": {
     "name": "#%%\n"
    }
   }
  },
  {
   "cell_type": "code",
   "execution_count": 34,
   "outputs": [
    {
     "name": "stdout",
     "output_type": "stream",
     "text": [
      "[[ 0.10463234  0.          1.5482721   0.68542194  0.          0.\n",
      "  -0.30263638 -0.05420605  0.95611346  1.1467142  -2.166598    1.9117452\n",
      "  -1.6436827  -1.1088319  -1.0535043 ]]\n"
     ]
    }
   ],
   "source": [
    "print(encoded_image)"
   ],
   "metadata": {
    "collapsed": false,
    "pycharm": {
     "name": "#%%\n"
    }
   }
  },
  {
   "cell_type": "code",
   "execution_count": 35,
   "outputs": [
    {
     "name": "stdout",
     "output_type": "stream",
     "text": [
      "[[0.00728511 0.75240401 0.24031089]]\n"
     ]
    }
   ],
   "source": [
    "# C:\\Users\\i\\Documents\\PROJECTS\\SPM_docs\\docs\\docs_path\\Resume\\50463741-3741.tif\n",
    "from DocClf_Test_Preprocessing import *\n",
    "image_path = r\"C:\\Users\\i\\Documents\\PROJECTS\\SPM_docs\\docs\\docs_path\\Resume\\50463741-3741.tif\"\n",
    "encoded_image_1 = Preprocess(image_path).vector_encoder()\n",
    "\n",
    "print(svm_1.predict_proba(encoded_image_1))"
   ],
   "metadata": {
    "collapsed": false,
    "pycharm": {
     "name": "#%%\n"
    }
   }
  },
  {
   "cell_type": "code",
   "execution_count": 36,
   "outputs": [
    {
     "name": "stdout",
     "output_type": "stream",
     "text": [
      "[[ 0.10463234  0.          1.5482721   0.68542194  0.          0.\n",
      "  -0.30263638 -0.05420605  0.95611346  1.1467142  -2.166598    1.9117452\n",
      "  -1.6436827  -1.1088319  -1.0535043 ]]\n"
     ]
    }
   ],
   "source": [
    "print(encoded_image)"
   ],
   "metadata": {
    "collapsed": false,
    "pycharm": {
     "name": "#%%\n"
    }
   }
  },
  {
   "cell_type": "code",
   "execution_count": 37,
   "outputs": [
    {
     "name": "stdout",
     "output_type": "stream",
     "text": [
      "[[0.02801507 0.77083955 0.20114538]]\n",
      "[ 0.15120053  0.         -1.24651718  1.01153564  0.          0.\n",
      " -0.35948592 -0.05420605 -1.34435034 -0.27829435  2.93395066 -0.82241172\n",
      "  2.03540492  1.83913064  1.63705111]\n"
     ]
    }
   ],
   "source": [
    "print(svm_1.predict_proba([vector_encoder_train[0]]))\n",
    "print(vector_encoder_train[0])"
   ],
   "metadata": {
    "collapsed": false,
    "pycharm": {
     "name": "#%%\n"
    }
   }
  },
  {
   "cell_type": "code",
   "execution_count": 37,
   "outputs": [],
   "source": [],
   "metadata": {
    "collapsed": false,
    "pycharm": {
     "name": "#%%\n"
    }
   }
  }
 ],
 "metadata": {
  "kernelspec": {
   "display_name": "Python 3",
   "language": "python",
   "name": "python3"
  },
  "language_info": {
   "codemirror_mode": {
    "name": "ipython",
    "version": 3
   },
   "file_extension": ".py",
   "mimetype": "text/x-python",
   "name": "python",
   "nbconvert_exporter": "python",
   "pygments_lexer": "ipython3",
   "version": "3.8.10"
  }
 },
 "nbformat": 4,
 "nbformat_minor": 1
}